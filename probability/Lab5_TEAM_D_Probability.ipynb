{
 "cells": [
  {
   "cell_type": "markdown",
   "metadata": {},
   "source": [
    "# Lab 5"
   ]
  },
  {
   "cell_type": "code",
   "execution_count": 1,
   "metadata": {
    "ExecuteTime": {
     "end_time": "2019-11-11T19:09:50.090008Z",
     "start_time": "2019-11-11T19:09:28.135Z"
    }
   },
   "outputs": [
    {
     "data": {
      "text/html": [
       "<table>\n",
       "<thead><tr><th scope=col>vs</th><th scope=col>game</th><th scope=col>quarter</th><th scope=col>time</th><th scope=col>description</th><th scope=col>basket</th></tr></thead>\n",
       "<tbody>\n",
       "\t<tr><td>ORL                                                    </td><td>1                                                      </td><td>1                                                      </td><td>9:47                                                   </td><td>Kobe Bryant makes 4-foot two point shot                </td><td>H                                                      </td></tr>\n",
       "\t<tr><td>ORL                                                    </td><td>1                                                      </td><td>1                                                      </td><td>9:07                                                   </td><td>Kobe Bryant misses jumper                              </td><td>M                                                      </td></tr>\n",
       "\t<tr><td>ORL                                                    </td><td>1                                                      </td><td>1                                                      </td><td>8:11                                                   </td><td>Kobe Bryant misses 7-foot jumper                       </td><td>M                                                      </td></tr>\n",
       "\t<tr><td>ORL                                                    </td><td>1                                                      </td><td>1                                                      </td><td>7:41                                                   </td><td>Kobe Bryant makes 16-foot jumper (Derek Fisher assists)</td><td>H                                                      </td></tr>\n",
       "\t<tr><td>ORL                                                    </td><td>1                                                      </td><td>1                                                      </td><td>7:03                                                   </td><td>Kobe Bryant makes driving layup                        </td><td>H                                                      </td></tr>\n",
       "\t<tr><td>ORL                                                    </td><td>1                                                      </td><td>1                                                      </td><td>6:01                                                   </td><td>Kobe Bryant misses jumper                              </td><td>M                                                      </td></tr>\n",
       "</tbody>\n",
       "</table>\n"
      ],
      "text/latex": [
       "\\begin{tabular}{r|llllll}\n",
       " vs & game & quarter & time & description & basket\\\\\n",
       "\\hline\n",
       "\t ORL                                                     & 1                                                       & 1                                                       & 9:47                                                    & Kobe Bryant makes 4-foot two point shot                 & H                                                      \\\\\n",
       "\t ORL                                                     & 1                                                       & 1                                                       & 9:07                                                    & Kobe Bryant misses jumper                               & M                                                      \\\\\n",
       "\t ORL                                                     & 1                                                       & 1                                                       & 8:11                                                    & Kobe Bryant misses 7-foot jumper                        & M                                                      \\\\\n",
       "\t ORL                                                     & 1                                                       & 1                                                       & 7:41                                                    & Kobe Bryant makes 16-foot jumper (Derek Fisher assists) & H                                                      \\\\\n",
       "\t ORL                                                     & 1                                                       & 1                                                       & 7:03                                                    & Kobe Bryant makes driving layup                         & H                                                      \\\\\n",
       "\t ORL                                                     & 1                                                       & 1                                                       & 6:01                                                    & Kobe Bryant misses jumper                               & M                                                      \\\\\n",
       "\\end{tabular}\n"
      ],
      "text/markdown": [
       "\n",
       "| vs | game | quarter | time | description | basket |\n",
       "|---|---|---|---|---|---|\n",
       "| ORL                                                     | 1                                                       | 1                                                       | 9:47                                                    | Kobe Bryant makes 4-foot two point shot                 | H                                                       |\n",
       "| ORL                                                     | 1                                                       | 1                                                       | 9:07                                                    | Kobe Bryant misses jumper                               | M                                                       |\n",
       "| ORL                                                     | 1                                                       | 1                                                       | 8:11                                                    | Kobe Bryant misses 7-foot jumper                        | M                                                       |\n",
       "| ORL                                                     | 1                                                       | 1                                                       | 7:41                                                    | Kobe Bryant makes 16-foot jumper (Derek Fisher assists) | H                                                       |\n",
       "| ORL                                                     | 1                                                       | 1                                                       | 7:03                                                    | Kobe Bryant makes driving layup                         | H                                                       |\n",
       "| ORL                                                     | 1                                                       | 1                                                       | 6:01                                                    | Kobe Bryant misses jumper                               | M                                                       |\n",
       "\n"
      ],
      "text/plain": [
       "  vs  game quarter time description                                            \n",
       "1 ORL 1    1       9:47 Kobe Bryant makes 4-foot two point shot                \n",
       "2 ORL 1    1       9:07 Kobe Bryant misses jumper                              \n",
       "3 ORL 1    1       8:11 Kobe Bryant misses 7-foot jumper                       \n",
       "4 ORL 1    1       7:41 Kobe Bryant makes 16-foot jumper (Derek Fisher assists)\n",
       "5 ORL 1    1       7:03 Kobe Bryant makes driving layup                        \n",
       "6 ORL 1    1       6:01 Kobe Bryant misses jumper                              \n",
       "  basket\n",
       "1 H     \n",
       "2 M     \n",
       "3 M     \n",
       "4 H     \n",
       "5 H     \n",
       "6 M     "
      ]
     },
     "metadata": {},
     "output_type": "display_data"
    }
   ],
   "source": [
    "download.file(\"http://www.openintro.org/stat/data/kobe.RData\", destfile = \"kobe.RData\")\n",
    "load(\"kobe.RData\")\n",
    "head(kobe)"
   ]
  },
  {
   "cell_type": "code",
   "execution_count": 2,
   "metadata": {
    "ExecuteTime": {
     "end_time": "2019-11-11T19:19:41.561085Z",
     "start_time": "2019-11-11T19:19:41.476Z"
    }
   },
   "outputs": [
    {
     "data": {
      "text/html": [
       "<ol class=list-inline>\n",
       "\t<li>'H'</li>\n",
       "\t<li>'M'</li>\n",
       "\t<li>'M'</li>\n",
       "\t<li>'H'</li>\n",
       "\t<li>'H'</li>\n",
       "\t<li>'M'</li>\n",
       "\t<li>'M'</li>\n",
       "\t<li>'M'</li>\n",
       "\t<li>'M'</li>\n",
       "</ol>\n"
      ],
      "text/latex": [
       "\\begin{enumerate*}\n",
       "\\item 'H'\n",
       "\\item 'M'\n",
       "\\item 'M'\n",
       "\\item 'H'\n",
       "\\item 'H'\n",
       "\\item 'M'\n",
       "\\item 'M'\n",
       "\\item 'M'\n",
       "\\item 'M'\n",
       "\\end{enumerate*}\n"
      ],
      "text/markdown": [
       "1. 'H'\n",
       "2. 'M'\n",
       "3. 'M'\n",
       "4. 'H'\n",
       "5. 'H'\n",
       "6. 'M'\n",
       "7. 'M'\n",
       "8. 'M'\n",
       "9. 'M'\n",
       "\n",
       "\n"
      ],
      "text/plain": [
       "[1] \"H\" \"M\" \"M\" \"H\" \"H\" \"M\" \"M\" \"M\" \"M\""
      ]
     },
     "metadata": {},
     "output_type": "display_data"
    }
   ],
   "source": [
    "kobe$basket[1:9]"
   ]
  },
  {
   "cell_type": "markdown",
   "metadata": {
    "ExecuteTime": {
     "end_time": "2019-11-11T19:23:50.603921Z",
     "start_time": "2019-11-11T19:23:50.544Z"
    }
   },
   "source": [
    "## Exercise 1"
   ]
  },
  {
   "cell_type": "markdown",
   "metadata": {
    "ExecuteTime": {
     "end_time": "2019-11-11T19:25:55.064930Z",
     "start_time": "2019-11-11T19:25:55.000Z"
    }
   },
   "source": [
    "**Streak length of 1 means that Kobe hits 1 shot but then misses the next one. Streak length of 0 is a miss after miss.**"
   ]
  },
  {
   "cell_type": "code",
   "execution_count": 40,
   "metadata": {
    "ExecuteTime": {
     "end_time": "2019-11-11T21:11:06.902219Z",
     "start_time": "2019-11-11T21:11:06.646Z"
    }
   },
   "outputs": [
    {
     "data": {
      "image/png": "[encoded data removed]",
      "text/plain": [
       "plot without title"
      ]
     },
     "metadata": {},
     "output_type": "display_data"
    },
    {
     "data": {
      "image/png": "[encoded data removed]",
      "text/plain": [
       "Plot with title \"density.default(x = kobe_streak)\""
      ]
     },
     "metadata": {},
     "output_type": "display_data"
    }
   ],
   "source": [
    "kobe_streak <- calc_streak(kobe$basket)\n",
    "barplot(table(kobe_streak))\n",
    "den = density(kobe_streak)\n",
    "plot(den)"
   ]
  },
  {
   "cell_type": "markdown",
   "metadata": {
    "ExecuteTime": {
     "end_time": "2019-11-11T19:29:02.476696Z",
     "start_time": "2019-11-11T19:29:02.435Z"
    }
   },
   "source": [
    "## Exercise 2"
   ]
  },
  {
   "cell_type": "code",
   "execution_count": 16,
   "metadata": {
    "ExecuteTime": {
     "end_time": "2019-11-11T20:05:53.722150Z",
     "start_time": "2019-11-11T20:05:52.724Z"
    }
   },
   "outputs": [
    {
     "data": {
      "text/plain": [
       "   Min. 1st Qu.  Median    Mean 3rd Qu.    Max. \n",
       " 0.0000  0.0000  0.0000  0.7632  1.0000  4.0000 "
      ]
     },
     "metadata": {},
     "output_type": "display_data"
    }
   ],
   "source": [
    "summary(kobe_streak)"
   ]
  },
  {
   "cell_type": "code",
   "execution_count": 17,
   "metadata": {
    "ExecuteTime": {
     "end_time": "2019-11-11T20:22:16.380455Z",
     "start_time": "2019-11-11T20:22:16.017Z"
    }
   },
   "outputs": [
    {
     "data": {
      "text/plain": [
       "kobe_streak\n",
       " 0  1  2  3  4 \n",
       "39 24  6  6  1 "
      ]
     },
     "metadata": {},
     "output_type": "display_data"
    }
   ],
   "source": [
    "table(kobe_streak)"
   ]
  },
  {
   "cell_type": "markdown",
   "metadata": {},
   "source": [
    "**As we see from the barplot and from the summary the distribution is unimodal and right skewed.Typical streak length was 0 with a total of 39. Streaks of 1 were second with 24, then 6 streaks of 2 and 3, and only one streak of 4**"
   ]
  },
  {
   "cell_type": "markdown",
   "metadata": {},
   "source": [
    "## Exercise 3"
   ]
  },
  {
   "cell_type": "code",
   "execution_count": 19,
   "metadata": {
    "ExecuteTime": {
     "end_time": "2019-11-11T20:47:05.210195Z",
     "start_time": "2019-11-11T20:47:04.883Z"
    }
   },
   "outputs": [],
   "source": [
    "outcomes <- c(\"heads\", \"tails\")\n",
    "sim_unfair_coin <- sample(outcomes, size = 100, replace = TRUE, prob = c(0.2, 0.8))"
   ]
  },
  {
   "cell_type": "code",
   "execution_count": 21,
   "metadata": {
    "ExecuteTime": {
     "end_time": "2019-11-11T20:47:26.846411Z",
     "start_time": "2019-11-11T20:47:26.701Z"
    }
   },
   "outputs": [
    {
     "data": {
      "text/plain": [
       "sim_unfair_coin\n",
       "heads tails \n",
       "   23    77 "
      ]
     },
     "metadata": {},
     "output_type": "display_data"
    }
   ],
   "source": [
    "table(sim_unfair_coin)"
   ]
  },
  {
   "cell_type": "markdown",
   "metadata": {},
   "source": [
    "## Exercise 4"
   ]
  },
  {
   "cell_type": "code",
   "execution_count": 47,
   "metadata": {
    "ExecuteTime": {
     "end_time": "2019-11-11T21:16:17.879643Z",
     "start_time": "2019-11-11T21:16:17.821Z"
    }
   },
   "outputs": [],
   "source": [
    "outcomes <- c(\"H\", \"M\")\n",
    "sim_basket <- sample(outcomes, size = 133, replace = TRUE,prob = c(0.45,0.55))"
   ]
  },
  {
   "cell_type": "markdown",
   "metadata": {},
   "source": [
    "## Own your own"
   ]
  },
  {
   "cell_type": "markdown",
   "metadata": {},
   "source": [
    "## Exercise 1"
   ]
  },
  {
   "cell_type": "code",
   "execution_count": 48,
   "metadata": {
    "ExecuteTime": {
     "end_time": "2019-11-11T21:16:19.932126Z",
     "start_time": "2019-11-11T21:16:19.695Z"
    }
   },
   "outputs": [
    {
     "data": {
      "text/plain": [
       "streak_lengths\n",
       " 0  1  2  3  4  5 \n",
       "40 15 13  1  3  1 "
      ]
     },
     "metadata": {},
     "output_type": "display_data"
    },
    {
     "data": {
      "text/plain": [
       "   Min. 1st Qu.  Median    Mean 3rd Qu.    Max. \n",
       " 0.0000  0.0000  0.0000  0.8356  1.0000  5.0000 "
      ]
     },
     "metadata": {},
     "output_type": "display_data"
    },
    {
     "data": {
      "image/png": "[encoded data removed]",
      "text/plain": [
       "Plot with title \"density.default(x = streak_lengths)\""
      ]
     },
     "metadata": {},
     "output_type": "display_data"
    }
   ],
   "source": [
    "\n",
    "streak_lengths=calc_streak(sim_basket)\n",
    "table(streak_lengths)\n",
    "summary(streak_lengths)\n",
    "#barplot(table(streak_lengths))\n",
    "d = density(streak_lengths)\n",
    "plot(d)"
   ]
  },
  {
   "cell_type": "markdown",
   "metadata": {},
   "source": [
    "**The distribution is unimodal and lright skewed.**"
   ]
  },
  {
   "cell_type": "code",
   "execution_count": 50,
   "metadata": {
    "ExecuteTime": {
     "end_time": "2019-11-11T21:16:50.150818Z",
     "start_time": "2019-11-11T21:16:50.094Z"
    }
   },
   "outputs": [
    {
     "data": {
      "text/html": [
       "5"
      ],
      "text/latex": [
       "5"
      ],
      "text/markdown": [
       "5"
      ],
      "text/plain": [
       "[1] 5"
      ]
     },
     "metadata": {},
     "output_type": "display_data"
    }
   ],
   "source": [
    "max(streak_lengths)"
   ]
  },
  {
   "cell_type": "code",
   "execution_count": 68,
   "metadata": {
    "ExecuteTime": {
     "end_time": "2019-11-11T21:34:27.060883Z",
     "start_time": "2019-11-11T21:34:26.964Z"
    }
   },
   "outputs": [
    {
     "data": {
      "text/plain": [
       "streak_lengths\n",
       " 0  1  2  3  4  6 \n",
       "43 16 10  3  2  1 "
      ]
     },
     "metadata": {},
     "output_type": "display_data"
    },
    {
     "data": {
      "text/plain": [
       "   Min. 1st Qu.  Median    Mean 3rd Qu.    Max. \n",
       " 0.0000  0.0000  0.0000  0.7867  1.0000  6.0000 "
      ]
     },
     "metadata": {},
     "output_type": "display_data"
    }
   ],
   "source": [
    "sim_basket <- sample(outcomes, size = 133, replace = TRUE,prob = c(0.45,0.55))\n",
    "streak_lengths=calc_streak(sim_basket)\n",
    "table(streak_lengths)\n",
    "summary(streak_lengths)"
   ]
  },
  {
   "cell_type": "markdown",
   "metadata": {},
   "source": [
    "**Running the simulation a second time will show somehow similar results.The results are a bit differenta and this is perfectly reasonable because simulation is random. But they wouldn’t be completely different becouse the probability of hit and miss are the same for each simulation, 45% to 55% hits and miss respectively.**"
   ]
  },
  {
   "cell_type": "code",
   "execution_count": 69,
   "metadata": {
    "ExecuteTime": {
     "end_time": "2019-11-11T21:34:29.712164Z",
     "start_time": "2019-11-11T21:34:29.102Z"
    }
   },
   "outputs": [
    {
     "data": {
      "text/plain": [
       "   Min. 1st Qu.  Median    Mean 3rd Qu.    Max. \n",
       " 0.0000  0.0000  0.0000  0.7632  1.0000  4.0000 "
      ]
     },
     "metadata": {},
     "output_type": "display_data"
    },
    {
     "data": {
      "text/plain": [
       "   Min. 1st Qu.  Median    Mean 3rd Qu.    Max. \n",
       " 0.0000  0.0000  0.0000  0.7867  1.0000  6.0000 "
      ]
     },
     "metadata": {},
     "output_type": "display_data"
    },
    {
     "data": {
      "image/png": "[encoded data removed]",
      "text/plain": [
       "plot without title"
      ]
     },
     "metadata": {},
     "output_type": "display_data"
    }
   ],
   "source": [
    "par(mfrow=c(1,2))\n",
    "barplot(table(kobe_streak))\n",
    "barplot(table(streak_lengths))\n",
    "summary(kobe_streak)\n",
    "summary(streak_lengths)"
   ]
  },
  {
   "cell_type": "markdown",
   "metadata": {},
   "source": [
    "**Since Kobe’s streak distribution looks very similar to the independent shooter’s simulated steak distribution, we can conclude that Kobe Bryant doesn't have a ”hot hand”.**"
   ]
  },
  {
   "cell_type": "code",
   "execution_count": null,
   "metadata": {},
   "outputs": [],
   "source": []
  }
 ],
 "metadata": {
  "kernelspec": {
   "display_name": "R",
   "language": "R",
   "name": "ir"
  },
  "language_info": {
   "codemirror_mode": "r",
   "file_extension": ".r",
   "mimetype": "text/x-r-source",
   "name": "R",
   "pygments_lexer": "r",
   "version": "3.6.1"
  },
  "latex_envs": {
   "LaTeX_envs_menu_present": true,
   "autoclose": false,
   "autocomplete": true,
   "bibliofile": "biblio.bib",
   "cite_by": "apalike",
   "current_citInitial": 1,
   "eqLabelWithNumbers": true,
   "eqNumInitial": 1,
   "hotkeys": {
    "equation": "Ctrl-E",
    "itemize": "Ctrl-I"
   },
   "labels_anchors": false,
   "latex_user_defs": false,
   "report_style_numbering": false,
   "user_envs_cfg": false
  }
 },
 "nbformat": 4,
 "nbformat_minor": 2
}
